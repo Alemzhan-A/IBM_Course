{
  "cells": [
    {
      "cell_type": "markdown",
      "metadata": {
        "id": "T-C_UOTiXwT9"
      },
      "source": [
        "# Task.ipynb"
      ]
    },
    {
      "cell_type": "markdown",
      "metadata": {
        "id": "NgYyC4oTXwT_"
      },
      "source": [
        "## Introduction\n",
        "\n",
        "This notebook provides a brief introduction to some of the key tools and concepts used in data science."
      ]
    },
    {
      "cell_type": "markdown",
      "metadata": {
        "id": "2brZf4hHXwUB"
      },
      "source": [
        "## Data Science Languages\n",
        "\n",
        "1. Python\n",
        "2. R\n",
        "3. SQL\n",
        "4. Julia\n",
        "5. Scala"
      ]
    },
    {
      "cell_type": "markdown",
      "metadata": {
        "id": "zhP-aP1kXwUC"
      },
      "source": [
        "## Data Science Libraries\n",
        "\n",
        "1. NumPy\n",
        "2. Pandas\n",
        "3. Matplotlib\n",
        "4. Scikit-learn\n",
        "5. TensorFlow\n",
        "6. PyTorch\n",
        "7. Seaborn"
      ]
    },
    {
      "cell_type": "markdown",
      "metadata": {
        "id": "VpKl8P5cXwUC"
      },
      "source": [
        "## Data Science Tools\n",
        "\n",
        "| Category | Tools |\n",
        "|----------|-------|\n",
        "| Programming Languages | Python, R, SQL |\n",
        "| Data Analysis Libraries | Pandas, NumPy, SciPy |\n",
        "| Visualization | Matplotlib, Seaborn, ggplot2 |\n",
        "| Machine Learning | Scikit-learn, TensorFlow, PyTorch |\n",
        "| Development Environments | Jupyter Notebook, RStudio, VS Code |"
      ]
    },
    {
      "cell_type": "markdown",
      "metadata": {
        "id": "_qGuLSRzXwUD"
      },
      "source": [
        "## Arithmetic Expression Examples\n",
        "\n",
        "- 2 + 3 = 5\n",
        "- 10 - 6 = 4\n",
        "- 4 * 4 = 16\n",
        "- 15 / 5 = 4\n",
        "- 3^3 = 27"
      ]
    },
    {
      "cell_type": "code",
      "execution_count": 1,
      "metadata": {
        "trusted": true,
        "id": "h2R8LmBCXwUD",
        "outputId": "6238fc1e-c40e-4d53-9494-a282fc57c454",
        "colab": {
          "base_uri": "https://localhost:8080/"
        }
      },
      "outputs": [
        {
          "output_type": "stream",
          "name": "stdout",
          "text": [
            "6 * 3 = 18\n",
            "2 + 2 = 4\n"
          ]
        }
      ],
      "source": [
        "# Multiplication\n",
        "result_multiplication = 6 * 3\n",
        "print(\"6 * 3 =\", result_multiplication)\n",
        "\n",
        "# Addition\n",
        "result_addition = 2+2\n",
        "print(\"2 + 2 =\", result_addition)"
      ]
    },
    {
      "cell_type": "code",
      "execution_count": 2,
      "metadata": {
        "trusted": true,
        "id": "ZS_vddTUXwUF",
        "outputId": "aad7d1b8-8813-4781-b0db-be31e9cf6672",
        "colab": {
          "base_uri": "https://localhost:8080/"
        }
      },
      "outputs": [
        {
          "output_type": "stream",
          "name": "stdout",
          "text": [
            "200 minutes is equal to 3.3333333333333335 hours\n"
          ]
        }
      ],
      "source": [
        "def minutes_to_hours(minutes):\n",
        "    hours = minutes / 60\n",
        "    return hours\n",
        "\n",
        "minutes = 200\n",
        "hours = minutes_to_hours(minutes)\n",
        "print(f\"{minutes} minutes is equal to {hours} hours\")"
      ]
    },
    {
      "cell_type": "markdown",
      "metadata": {
        "id": "osbhTUoTXwUF"
      },
      "source": [
        "## Objectives\n",
        "\n",
        "1. Learn the primary programming languages for data science\n",
        "2. Master key libraries for data analysis and machine learning\n",
        "3. Learn to use Jupyter Notebook for data analysis\n",
        "4. Develop data visualization skills\n",
        "5. Understand basic concepts of statistics and machine learning"
      ]
    },
    {
      "cell_type": "markdown",
      "metadata": {
        "id": "nhKazOAoXwUG"
      },
      "source": [
        "## Author\n",
        "\n",
        "Akhmetzhanov Alemzhan"
      ]
    }
  ],
  "metadata": {
    "kernelspec": {
      "display_name": "Python 3",
      "language": "python",
      "name": "python3"
    },
    "language_info": {
      "name": "python",
      "version": "3.11.4"
    },
    "colab": {
      "provenance": []
    }
  },
  "nbformat": 4,
  "nbformat_minor": 0
}